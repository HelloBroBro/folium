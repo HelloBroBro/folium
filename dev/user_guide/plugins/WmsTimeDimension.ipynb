{
 "cells": [
  {
   "cell_type": "markdown",
   "id": "cfe7ab73",
   "metadata": {},
   "source": [
    "# TimestampedWmsTileLayers\n",
    "\n",
    "Add a time dimension to a WMS tile layer.\n",
    "\n",
    "### Exploring the WMS with OWSLib"
   ]
  },
  {
   "cell_type": "code",
   "execution_count": 1,
   "id": "75533e4a",
   "metadata": {
    "execution": {
     "iopub.execute_input": "2024-06-26T13:24:10.896330Z",
     "iopub.status.busy": "2024-06-26T13:24:10.896136Z",
     "iopub.status.idle": "2024-06-26T13:24:12.536523Z",
     "shell.execute_reply": "2024-06-26T13:24:12.535952Z"
    }
   },
   "outputs": [
    {
     "name": "stdout",
     "output_type": "stream",
     "text": [
      "CRW_DHW\n",
      "CRW_DHW_mask\n",
      "CRW_HOTSPOT\n",
      "CRW_HOTSPOT_mask\n",
      "CRW_SSTANOMALY\n",
      "CRW_SSTANOMALY_mask\n",
      "CRW_BAA\n",
      "CRW_BAA_mask\n",
      "CRW_BAA_7D_MAX\n",
      "CRW_BAA_7D_MAX_mask\n",
      "CRW_SEAICE\n",
      "CRW_SST\n"
     ]
    }
   ],
   "source": [
    "from owslib.wms import WebMapService\n",
    "\n",
    "\n",
    "url = \"https://pae-paha.pacioos.hawaii.edu/thredds/wms/dhw_5km?service=WMS\"\n",
    "\n",
    "web_map_services = WebMapService(url)\n",
    "\n",
    "print(\"\\n\".join(web_map_services.contents.keys()))"
   ]
  },
  {
   "cell_type": "markdown",
   "id": "85f60ed3",
   "metadata": {},
   "source": [
    "### Layer metadata"
   ]
  },
  {
   "cell_type": "code",
   "execution_count": 2,
   "id": "8ef9572b",
   "metadata": {
    "execution": {
     "iopub.execute_input": "2024-06-26T13:24:12.538573Z",
     "iopub.status.busy": "2024-06-26T13:24:12.538253Z",
     "iopub.status.idle": "2024-06-26T13:24:12.541376Z",
     "shell.execute_reply": "2024-06-26T13:24:12.540993Z"
    }
   },
   "outputs": [],
   "source": [
    "layer = \"CRW_SST\"\n",
    "wms = web_map_services.contents[layer]\n",
    "\n",
    "name = wms.title\n",
    "\n",
    "lon = (wms.boundingBox[0] + wms.boundingBox[2]) / 2.0\n",
    "lat = (wms.boundingBox[1] + wms.boundingBox[3]) / 2.0\n",
    "center = lat, lon\n",
    "\n",
    "time_interval = \"{0}/{1}\".format(\n",
    "    wms.timepositions[0].strip(), wms.timepositions[-1].strip()\n",
    ")\n",
    "style = \"boxfill/sst_36\"\n",
    "\n",
    "if style not in wms.styles:\n",
    "    style = None"
   ]
  },
  {
   "cell_type": "markdown",
   "id": "390d7bc0",
   "metadata": {},
   "source": [
    "### Map with WmsTileLayer and TimestampedWmsTileLayers"
   ]
  },
  {
   "cell_type": "code",
   "execution_count": 3,
   "id": "2ee23b14",
   "metadata": {
    "execution": {
     "iopub.execute_input": "2024-06-26T13:24:12.543262Z",
     "iopub.status.busy": "2024-06-26T13:24:12.542956Z",
     "iopub.status.idle": "2024-06-26T13:24:13.015050Z",
     "shell.execute_reply": "2024-06-26T13:24:13.014586Z"
    }
   },
   "outputs": [
    {
     "data": {
      "text/html": [
       "<div style=\"width:100%;\"><div style=\"position:relative;width:100%;height:0;padding-bottom:60%;\"><span style=\"color:#565656\">Make this Notebook Trusted to load map: File -> Trust Notebook</span><iframe srcdoc=\"&lt;!DOCTYPE html&gt;\n",
       "&lt;html&gt;\n",
       "&lt;head&gt;\n",
       "    \n",
       "    &lt;meta http-equiv=&quot;content-type&quot; content=&quot;text/html; charset=UTF-8&quot; /&gt;\n",
       "    \n",
       "        &lt;script&gt;\n",
       "            L_NO_TOUCH = false;\n",
       "            L_DISABLE_3D = false;\n",
       "        &lt;/script&gt;\n",
       "    \n",
       "    &lt;style&gt;html, body {width: 100%;height: 100%;margin: 0;padding: 0;}&lt;/style&gt;\n",
       "    &lt;style&gt;#map {position:absolute;top:0;bottom:0;right:0;left:0;}&lt;/style&gt;\n",
       "    &lt;script src=&quot;https://cdn.jsdelivr.net/npm/leaflet@1.9.3/dist/leaflet.js&quot;&gt;&lt;/script&gt;\n",
       "    &lt;script src=&quot;https://code.jquery.com/jquery-3.7.1.min.js&quot;&gt;&lt;/script&gt;\n",
       "    &lt;script src=&quot;https://cdn.jsdelivr.net/npm/bootstrap@5.2.2/dist/js/bootstrap.bundle.min.js&quot;&gt;&lt;/script&gt;\n",
       "    &lt;script src=&quot;https://cdnjs.cloudflare.com/ajax/libs/Leaflet.awesome-markers/2.0.2/leaflet.awesome-markers.js&quot;&gt;&lt;/script&gt;\n",
       "    &lt;link rel=&quot;stylesheet&quot; href=&quot;https://cdn.jsdelivr.net/npm/leaflet@1.9.3/dist/leaflet.css&quot;/&gt;\n",
       "    &lt;link rel=&quot;stylesheet&quot; href=&quot;https://cdn.jsdelivr.net/npm/bootstrap@5.2.2/dist/css/bootstrap.min.css&quot;/&gt;\n",
       "    &lt;link rel=&quot;stylesheet&quot; href=&quot;https://netdna.bootstrapcdn.com/bootstrap/3.0.0/css/bootstrap-glyphicons.css&quot;/&gt;\n",
       "    &lt;link rel=&quot;stylesheet&quot; href=&quot;https://cdn.jsdelivr.net/npm/@fortawesome/fontawesome-free@6.2.0/css/all.min.css&quot;/&gt;\n",
       "    &lt;link rel=&quot;stylesheet&quot; href=&quot;https://cdnjs.cloudflare.com/ajax/libs/Leaflet.awesome-markers/2.0.2/leaflet.awesome-markers.css&quot;/&gt;\n",
       "    &lt;link rel=&quot;stylesheet&quot; href=&quot;https://cdn.jsdelivr.net/gh/python-visualization/folium/folium/templates/leaflet.awesome.rotate.min.css&quot;/&gt;\n",
       "    \n",
       "            &lt;meta name=&quot;viewport&quot; content=&quot;width=device-width,\n",
       "                initial-scale=1.0, maximum-scale=1.0, user-scalable=no&quot; /&gt;\n",
       "            &lt;style&gt;\n",
       "                #map_32eb882b5b79c21c63ba6c17511058fb {\n",
       "                    position: relative;\n",
       "                    width: 100.0%;\n",
       "                    height: 100.0%;\n",
       "                    left: 0.0%;\n",
       "                    top: 0.0%;\n",
       "                }\n",
       "                .leaflet-container { font-size: 1rem; }\n",
       "            &lt;/style&gt;\n",
       "        \n",
       "    &lt;script src=&quot;https://cdnjs.cloudflare.com/ajax/libs/jquery/3.7.1/jquery.min.js&quot;&gt;&lt;/script&gt;\n",
       "    &lt;script src=&quot;https://cdnjs.cloudflare.com/ajax/libs/jqueryui/1.10.2/jquery-ui.min.js&quot;&gt;&lt;/script&gt;\n",
       "    &lt;script src=&quot;https://cdn.jsdelivr.net/npm/iso8601-js-period@0.2.1/iso8601.min.js&quot;&gt;&lt;/script&gt;\n",
       "    &lt;script src=&quot;https://cdn.jsdelivr.net/npm/leaflet-timedimension@1.1.1/dist/leaflet.timedimension.min.js&quot;&gt;&lt;/script&gt;\n",
       "    &lt;link rel=&quot;stylesheet&quot; href=&quot;https://cdnjs.cloudflare.com/ajax/libs/highlight.js/8.4/styles/default.min.css&quot;/&gt;\n",
       "    &lt;link rel=&quot;stylesheet&quot; href=&quot;https://cdn.jsdelivr.net/npm/leaflet-timedimension@1.1.1/dist/leaflet.timedimension.control.css&quot;/&gt;\n",
       "&lt;/head&gt;\n",
       "&lt;body&gt;\n",
       "    \n",
       "    \n",
       "            &lt;div class=&quot;folium-map&quot; id=&quot;map_32eb882b5b79c21c63ba6c17511058fb&quot; &gt;&lt;/div&gt;\n",
       "        \n",
       "&lt;/body&gt;\n",
       "&lt;script&gt;\n",
       "    \n",
       "    \n",
       "            var map_32eb882b5b79c21c63ba6c17511058fb = L.map(\n",
       "                &quot;map_32eb882b5b79c21c63ba6c17511058fb&quot;,\n",
       "                {\n",
       "                    center: [-40.0, -50.0],\n",
       "                    crs: L.CRS.EPSG3857,\n",
       "                    zoom: 5,\n",
       "                    zoomControl: true,\n",
       "                    preferCanvas: false,\n",
       "                }\n",
       "            );\n",
       "\n",
       "            \n",
       "\n",
       "        \n",
       "    \n",
       "            var tile_layer_c5d75663583ca55793306f9b99514c47 = L.tileLayer(\n",
       "                &quot;https://tile.openstreetmap.org/{z}/{x}/{y}.png&quot;,\n",
       "                {&quot;attribution&quot;: &quot;\\u0026copy; \\u003ca href=\\&quot;https://www.openstreetmap.org/copyright\\&quot;\\u003eOpenStreetMap\\u003c/a\\u003e contributors&quot;, &quot;detectRetina&quot;: false, &quot;maxNativeZoom&quot;: 19, &quot;maxZoom&quot;: 19, &quot;minZoom&quot;: 0, &quot;noWrap&quot;: false, &quot;opacity&quot;: 1, &quot;subdomains&quot;: &quot;abc&quot;, &quot;tms&quot;: false}\n",
       "            );\n",
       "        \n",
       "    \n",
       "            tile_layer_c5d75663583ca55793306f9b99514c47.addTo(map_32eb882b5b79c21c63ba6c17511058fb);\n",
       "        \n",
       "    \n",
       "            var macro_element_2d4709b80fe29f08d90d804e897ff239 = L.tileLayer.wms(\n",
       "                &quot;https://pae-paha.pacioos.hawaii.edu/thredds/wms/dhw_5km?service=WMS&quot;,\n",
       "                {&quot;COLORSCALERANGE&quot;: &quot;1.2,28&quot;, &quot;attribution&quot;: &quot;&quot;, &quot;format&quot;: &quot;image/png&quot;, &quot;layers&quot;: &quot;CRW_SST&quot;, &quot;styles&quot;: &quot;boxfill/sst_36&quot;, &quot;transparent&quot;: true, &quot;version&quot;: &quot;1.1.1&quot;}\n",
       "            );\n",
       "        \n",
       "    \n",
       "            macro_element_2d4709b80fe29f08d90d804e897ff239.addTo(map_32eb882b5b79c21c63ba6c17511058fb);\n",
       "        \n",
       "    \n",
       "            map_32eb882b5b79c21c63ba6c17511058fb.timeDimension = L.timeDimension(\n",
       "                {&quot;period&quot;: &quot;PT1H&quot;, &quot;timeInterval&quot;: &quot;2021-06-25T12:00:00.000Z/2024-06-24T12:00:00.000Z&quot;}\n",
       "            );\n",
       "            map_32eb882b5b79c21c63ba6c17511058fb.timeDimensionControl =\n",
       "                L.control.timeDimension(\n",
       "                    {&quot;autoPlay&quot;: false, &quot;playerOptions&quot;: {&quot;loop&quot;: false, &quot;transitionTime&quot;: 200}, &quot;position&quot;: &quot;bottomleft&quot;}\n",
       "                );\n",
       "            map_32eb882b5b79c21c63ba6c17511058fb.addControl(\n",
       "                map_32eb882b5b79c21c63ba6c17511058fb.timeDimensionControl\n",
       "            );\n",
       "\n",
       "            \n",
       "            var macro_element_2d4709b80fe29f08d90d804e897ff239 = L.timeDimension.layer.wms(\n",
       "                macro_element_2d4709b80fe29f08d90d804e897ff239,\n",
       "                {\n",
       "                    updateTimeDimension: false,\n",
       "                    wmsVersion: &quot;1.1.1&quot;,\n",
       "                }\n",
       "            ).addTo(map_32eb882b5b79c21c63ba6c17511058fb);\n",
       "            \n",
       "        \n",
       "    \n",
       "            var layer_control_19cdd26743b203c0fa3f3b8186e9e0ca_layers = {\n",
       "                base_layers : {\n",
       "                    &quot;openstreetmap&quot; : tile_layer_c5d75663583ca55793306f9b99514c47,\n",
       "                },\n",
       "                overlays :  {\n",
       "                    &quot;sea_surface_temperature&quot; : macro_element_2d4709b80fe29f08d90d804e897ff239,\n",
       "                },\n",
       "            };\n",
       "            let layer_control_19cdd26743b203c0fa3f3b8186e9e0ca = L.control.layers(\n",
       "                layer_control_19cdd26743b203c0fa3f3b8186e9e0ca_layers.base_layers,\n",
       "                layer_control_19cdd26743b203c0fa3f3b8186e9e0ca_layers.overlays,\n",
       "                {&quot;autoZIndex&quot;: true, &quot;collapsed&quot;: true, &quot;position&quot;: &quot;topright&quot;}\n",
       "            ).addTo(map_32eb882b5b79c21c63ba6c17511058fb);\n",
       "\n",
       "        \n",
       "&lt;/script&gt;\n",
       "&lt;/html&gt;\" style=\"position:absolute;width:100%;height:100%;left:0;top:0;border:none !important;\" allowfullscreen webkitallowfullscreen mozallowfullscreen></iframe></div></div>"
      ],
      "text/plain": [
       "<folium.folium.Map at 0x7f294fd69340>"
      ]
     },
     "execution_count": 3,
     "metadata": {},
     "output_type": "execute_result"
    }
   ],
   "source": [
    "import folium\n",
    "import folium.plugins\n",
    "\n",
    "m = folium.Map(location=[-40, -50], zoom_start=5)\n",
    "\n",
    "wms_tile_layer = folium.WmsTileLayer(\n",
    "    url=url,\n",
    "    name=name,\n",
    "    styles=style,\n",
    "    fmt=\"image/png\",\n",
    "    transparent=True,\n",
    "    layers=layer,\n",
    "    overlay=True,\n",
    "    COLORSCALERANGE=\"1.2,28\",\n",
    ").add_to(m)\n",
    "\n",
    "folium.plugins.TimestampedWmsTileLayers(\n",
    "    wms_tile_layer,\n",
    "    period=\"PT1H\",\n",
    "    time_interval=time_interval,\n",
    ").add_to(m)\n",
    "\n",
    "folium.LayerControl().add_to(m)\n",
    "\n",
    "m"
   ]
  }
 ],
 "metadata": {
  "jupytext": {
   "text_representation": {
    "extension": ".mystnb",
    "format_name": "myst"
   }
  },
  "language_info": {
   "codemirror_mode": {
    "name": "ipython",
    "version": 3
   },
   "file_extension": ".py",
   "mimetype": "text/x-python",
   "name": "python",
   "nbconvert_exporter": "python",
   "pygments_lexer": "ipython3",
   "version": "3.12.4"
  }
 },
 "nbformat": 4,
 "nbformat_minor": 5
}
