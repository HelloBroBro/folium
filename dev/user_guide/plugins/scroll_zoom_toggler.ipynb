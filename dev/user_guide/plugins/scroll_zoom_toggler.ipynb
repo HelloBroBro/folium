{
 "cells": [
  {
   "cell_type": "code",
   "execution_count": 1,
   "id": "db8810d6",
   "metadata": {
    "execution": {
     "iopub.execute_input": "2024-06-15T05:03:09.371334Z",
     "iopub.status.busy": "2024-06-15T05:03:09.370933Z",
     "iopub.status.idle": "2024-06-15T05:03:09.864768Z",
     "shell.execute_reply": "2024-06-15T05:03:09.864219Z"
    },
    "nbsphinx": "hidden"
   },
   "outputs": [],
   "source": [
    "import folium\n",
    "import folium.plugins"
   ]
  },
  {
   "cell_type": "markdown",
   "id": "782cc75b",
   "metadata": {},
   "source": [
    "## ScrollZoomToggler\n",
    "\n",
    "Add a button to enable/disable zoom scrolling."
   ]
  },
  {
   "cell_type": "code",
   "execution_count": 2,
   "id": "4a1e054f",
   "metadata": {
    "execution": {
     "iopub.execute_input": "2024-06-15T05:03:09.867164Z",
     "iopub.status.busy": "2024-06-15T05:03:09.866922Z",
     "iopub.status.idle": "2024-06-15T05:03:09.879168Z",
     "shell.execute_reply": "2024-06-15T05:03:09.878745Z"
    }
   },
   "outputs": [
    {
     "data": {
      "text/html": [
       "<div style=\"width:100%;\"><div style=\"position:relative;width:100%;height:0;padding-bottom:60%;\"><span style=\"color:#565656\">Make this Notebook Trusted to load map: File -> Trust Notebook</span><iframe srcdoc=\"&lt;!DOCTYPE html&gt;\n",
       "&lt;html&gt;\n",
       "&lt;head&gt;\n",
       "    \n",
       "    &lt;meta http-equiv=&quot;content-type&quot; content=&quot;text/html; charset=UTF-8&quot; /&gt;\n",
       "    \n",
       "        &lt;script&gt;\n",
       "            L_NO_TOUCH = false;\n",
       "            L_DISABLE_3D = false;\n",
       "        &lt;/script&gt;\n",
       "    \n",
       "    &lt;style&gt;html, body {width: 100%;height: 100%;margin: 0;padding: 0;}&lt;/style&gt;\n",
       "    &lt;style&gt;#map {position:absolute;top:0;bottom:0;right:0;left:0;}&lt;/style&gt;\n",
       "    &lt;script src=&quot;https://cdn.jsdelivr.net/npm/leaflet@1.9.3/dist/leaflet.js&quot;&gt;&lt;/script&gt;\n",
       "    &lt;script src=&quot;https://code.jquery.com/jquery-3.7.1.min.js&quot;&gt;&lt;/script&gt;\n",
       "    &lt;script src=&quot;https://cdn.jsdelivr.net/npm/bootstrap@5.2.2/dist/js/bootstrap.bundle.min.js&quot;&gt;&lt;/script&gt;\n",
       "    &lt;script src=&quot;https://cdnjs.cloudflare.com/ajax/libs/Leaflet.awesome-markers/2.0.2/leaflet.awesome-markers.js&quot;&gt;&lt;/script&gt;\n",
       "    &lt;link rel=&quot;stylesheet&quot; href=&quot;https://cdn.jsdelivr.net/npm/leaflet@1.9.3/dist/leaflet.css&quot;/&gt;\n",
       "    &lt;link rel=&quot;stylesheet&quot; href=&quot;https://cdn.jsdelivr.net/npm/bootstrap@5.2.2/dist/css/bootstrap.min.css&quot;/&gt;\n",
       "    &lt;link rel=&quot;stylesheet&quot; href=&quot;https://netdna.bootstrapcdn.com/bootstrap/3.0.0/css/bootstrap-glyphicons.css&quot;/&gt;\n",
       "    &lt;link rel=&quot;stylesheet&quot; href=&quot;https://cdn.jsdelivr.net/npm/@fortawesome/fontawesome-free@6.2.0/css/all.min.css&quot;/&gt;\n",
       "    &lt;link rel=&quot;stylesheet&quot; href=&quot;https://cdnjs.cloudflare.com/ajax/libs/Leaflet.awesome-markers/2.0.2/leaflet.awesome-markers.css&quot;/&gt;\n",
       "    &lt;link rel=&quot;stylesheet&quot; href=&quot;https://cdn.jsdelivr.net/gh/python-visualization/folium/folium/templates/leaflet.awesome.rotate.min.css&quot;/&gt;\n",
       "    \n",
       "            &lt;meta name=&quot;viewport&quot; content=&quot;width=device-width,\n",
       "                initial-scale=1.0, maximum-scale=1.0, user-scalable=no&quot; /&gt;\n",
       "            &lt;style&gt;\n",
       "                #map_648f94fdecc813fb9fb5cb10d5916b8d {\n",
       "                    position: relative;\n",
       "                    width: 100.0%;\n",
       "                    height: 100.0%;\n",
       "                    left: 0.0%;\n",
       "                    top: 0.0%;\n",
       "                }\n",
       "                .leaflet-container { font-size: 1rem; }\n",
       "            &lt;/style&gt;\n",
       "        \n",
       "    \n",
       "            &lt;style&gt;\n",
       "                #scroll_zoom_toggler_2c8ffd3be993ff9f590e898532f182ed {\n",
       "                    position:absolute;\n",
       "                    width:35px;\n",
       "                    bottom:10px;\n",
       "                    height:35px;\n",
       "                    left:10px;\n",
       "                    background-color:#fff;\n",
       "                    text-align:center;\n",
       "                    line-height:35px;\n",
       "                    vertical-align: middle;\n",
       "                    }\n",
       "            &lt;/style&gt;\n",
       "        \n",
       "&lt;/head&gt;\n",
       "&lt;body&gt;\n",
       "    \n",
       "    \n",
       "            &lt;div class=&quot;folium-map&quot; id=&quot;map_648f94fdecc813fb9fb5cb10d5916b8d&quot; &gt;&lt;/div&gt;\n",
       "        \n",
       "    \n",
       "            &lt;img id=&quot;scroll_zoom_toggler_2c8ffd3be993ff9f590e898532f182ed&quot;\n",
       "                 alt=&quot;scroll&quot;\n",
       "                 src=&quot;https://cdnjs.cloudflare.com/ajax/libs/ionicons/2.0.1/png/512/arrow-move.png&quot;\n",
       "                 style=&quot;z-index: 999999&quot;\n",
       "                 onclick=&quot;map_648f94fdecc813fb9fb5cb10d5916b8d.toggleScroll()&quot;&gt;\n",
       "            &lt;/img&gt;\n",
       "        \n",
       "&lt;/body&gt;\n",
       "&lt;script&gt;\n",
       "    \n",
       "    \n",
       "            var map_648f94fdecc813fb9fb5cb10d5916b8d = L.map(\n",
       "                &quot;map_648f94fdecc813fb9fb5cb10d5916b8d&quot;,\n",
       "                {\n",
       "                    center: [45.0, 3.0],\n",
       "                    crs: L.CRS.EPSG3857,\n",
       "                    zoom: 4,\n",
       "                    zoomControl: true,\n",
       "                    preferCanvas: false,\n",
       "                }\n",
       "            );\n",
       "\n",
       "            \n",
       "\n",
       "        \n",
       "    \n",
       "            var tile_layer_eadf8e6ddcf553d5aaa5c94f1b66b4f1 = L.tileLayer(\n",
       "                &quot;https://tile.openstreetmap.org/{z}/{x}/{y}.png&quot;,\n",
       "                {&quot;attribution&quot;: &quot;\\u0026copy; \\u003ca href=\\&quot;https://www.openstreetmap.org/copyright\\&quot;\\u003eOpenStreetMap\\u003c/a\\u003e contributors&quot;, &quot;detectRetina&quot;: false, &quot;maxNativeZoom&quot;: 19, &quot;maxZoom&quot;: 19, &quot;minZoom&quot;: 0, &quot;noWrap&quot;: false, &quot;opacity&quot;: 1, &quot;subdomains&quot;: &quot;abc&quot;, &quot;tms&quot;: false}\n",
       "            );\n",
       "        \n",
       "    \n",
       "            tile_layer_eadf8e6ddcf553d5aaa5c94f1b66b4f1.addTo(map_648f94fdecc813fb9fb5cb10d5916b8d);\n",
       "        \n",
       "    \n",
       "            map_648f94fdecc813fb9fb5cb10d5916b8d.scrollEnabled = true;\n",
       "\n",
       "            map_648f94fdecc813fb9fb5cb10d5916b8d.toggleScroll = function() {\n",
       "                if (this.scrollEnabled) {\n",
       "                    this.scrollEnabled = false;\n",
       "                    this.scrollWheelZoom.disable();\n",
       "                } else {\n",
       "                    this.scrollEnabled = true;\n",
       "                    this.scrollWheelZoom.enable();\n",
       "                }\n",
       "            };\n",
       "            map_648f94fdecc813fb9fb5cb10d5916b8d.toggleScroll();\n",
       "        \n",
       "&lt;/script&gt;\n",
       "&lt;/html&gt;\" style=\"position:absolute;width:100%;height:100%;left:0;top:0;border:none !important;\" allowfullscreen webkitallowfullscreen mozallowfullscreen></iframe></div></div>"
      ],
      "text/plain": [
       "<folium.folium.Map at 0x7f150a83ecc0>"
      ]
     },
     "execution_count": 2,
     "metadata": {},
     "output_type": "execute_result"
    }
   ],
   "source": [
    "m = folium.Map([45, 3], zoom_start=4)\n",
    "\n",
    "folium.plugins.ScrollZoomToggler().add_to(m)\n",
    "\n",
    "m"
   ]
  }
 ],
 "metadata": {
  "jupytext": {
   "text_representation": {
    "extension": ".mystnb",
    "format_name": "myst"
   }
  },
  "language_info": {
   "codemirror_mode": {
    "name": "ipython",
    "version": 3
   },
   "file_extension": ".py",
   "mimetype": "text/x-python",
   "name": "python",
   "nbconvert_exporter": "python",
   "pygments_lexer": "ipython3",
   "version": "3.12.3"
  }
 },
 "nbformat": 4,
 "nbformat_minor": 5
}
