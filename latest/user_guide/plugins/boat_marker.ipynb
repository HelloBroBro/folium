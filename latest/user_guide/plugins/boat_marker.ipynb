{
 "cells": [
  {
   "cell_type": "code",
   "execution_count": 1,
   "id": "574fe8be",
   "metadata": {
    "execution": {
     "iopub.execute_input": "2024-02-29T05:02:06.193965Z",
     "iopub.status.busy": "2024-02-29T05:02:06.193800Z",
     "iopub.status.idle": "2024-02-29T05:02:06.658143Z",
     "shell.execute_reply": "2024-02-29T05:02:06.657628Z"
    },
    "nbsphinx": "hidden"
   },
   "outputs": [],
   "source": [
    "import folium\n",
    "import folium.plugins"
   ]
  },
  {
   "cell_type": "markdown",
   "id": "9cc6d62a",
   "metadata": {},
   "source": [
    "## BoatMarker"
   ]
  },
  {
   "cell_type": "code",
   "execution_count": 2,
   "id": "932e7b5f",
   "metadata": {
    "execution": {
     "iopub.execute_input": "2024-02-29T05:02:06.660566Z",
     "iopub.status.busy": "2024-02-29T05:02:06.660312Z",
     "iopub.status.idle": "2024-02-29T05:02:06.671827Z",
     "shell.execute_reply": "2024-02-29T05:02:06.671378Z"
    }
   },
   "outputs": [
    {
     "data": {
      "text/html": [
       "<div style=\"width:100%;\"><div style=\"position:relative;width:100%;height:0;padding-bottom:60%;\"><span style=\"color:#565656\">Make this Notebook Trusted to load map: File -> Trust Notebook</span><iframe srcdoc=\"&lt;!DOCTYPE html&gt;\n",
       "&lt;html&gt;\n",
       "&lt;head&gt;\n",
       "    \n",
       "    &lt;meta http-equiv=&quot;content-type&quot; content=&quot;text/html; charset=UTF-8&quot; /&gt;\n",
       "    \n",
       "        &lt;script&gt;\n",
       "            L_NO_TOUCH = false;\n",
       "            L_DISABLE_3D = false;\n",
       "        &lt;/script&gt;\n",
       "    \n",
       "    &lt;style&gt;html, body {width: 100%;height: 100%;margin: 0;padding: 0;}&lt;/style&gt;\n",
       "    &lt;style&gt;#map {position:absolute;top:0;bottom:0;right:0;left:0;}&lt;/style&gt;\n",
       "    &lt;script src=&quot;https://cdn.jsdelivr.net/npm/leaflet@1.9.3/dist/leaflet.js&quot;&gt;&lt;/script&gt;\n",
       "    &lt;script src=&quot;https://code.jquery.com/jquery-3.7.1.min.js&quot;&gt;&lt;/script&gt;\n",
       "    &lt;script src=&quot;https://cdn.jsdelivr.net/npm/bootstrap@5.2.2/dist/js/bootstrap.bundle.min.js&quot;&gt;&lt;/script&gt;\n",
       "    &lt;script src=&quot;https://cdnjs.cloudflare.com/ajax/libs/Leaflet.awesome-markers/2.0.2/leaflet.awesome-markers.js&quot;&gt;&lt;/script&gt;\n",
       "    &lt;link rel=&quot;stylesheet&quot; href=&quot;https://cdn.jsdelivr.net/npm/leaflet@1.9.3/dist/leaflet.css&quot;/&gt;\n",
       "    &lt;link rel=&quot;stylesheet&quot; href=&quot;https://cdn.jsdelivr.net/npm/bootstrap@5.2.2/dist/css/bootstrap.min.css&quot;/&gt;\n",
       "    &lt;link rel=&quot;stylesheet&quot; href=&quot;https://netdna.bootstrapcdn.com/bootstrap/3.0.0/css/bootstrap.min.css&quot;/&gt;\n",
       "    &lt;link rel=&quot;stylesheet&quot; href=&quot;https://cdn.jsdelivr.net/npm/@fortawesome/fontawesome-free@6.2.0/css/all.min.css&quot;/&gt;\n",
       "    &lt;link rel=&quot;stylesheet&quot; href=&quot;https://cdnjs.cloudflare.com/ajax/libs/Leaflet.awesome-markers/2.0.2/leaflet.awesome-markers.css&quot;/&gt;\n",
       "    &lt;link rel=&quot;stylesheet&quot; href=&quot;https://cdn.jsdelivr.net/gh/python-visualization/folium/folium/templates/leaflet.awesome.rotate.min.css&quot;/&gt;\n",
       "    \n",
       "            &lt;meta name=&quot;viewport&quot; content=&quot;width=device-width,\n",
       "                initial-scale=1.0, maximum-scale=1.0, user-scalable=no&quot; /&gt;\n",
       "            &lt;style&gt;\n",
       "                #map_c2b3b66e00a71a50ad60b0611b81059a {\n",
       "                    position: relative;\n",
       "                    width: 100.0%;\n",
       "                    height: 100.0%;\n",
       "                    left: 0.0%;\n",
       "                    top: 0.0%;\n",
       "                }\n",
       "                .leaflet-container { font-size: 1rem; }\n",
       "            &lt;/style&gt;\n",
       "        \n",
       "    &lt;script src=&quot;https://unpkg.com/leaflet.boatmarker/leaflet.boatmarker.min.js&quot;&gt;&lt;/script&gt;\n",
       "&lt;/head&gt;\n",
       "&lt;body&gt;\n",
       "    \n",
       "    \n",
       "            &lt;div class=&quot;folium-map&quot; id=&quot;map_c2b3b66e00a71a50ad60b0611b81059a&quot; &gt;&lt;/div&gt;\n",
       "        \n",
       "&lt;/body&gt;\n",
       "&lt;script&gt;\n",
       "    \n",
       "    \n",
       "            var map_c2b3b66e00a71a50ad60b0611b81059a = L.map(\n",
       "                &quot;map_c2b3b66e00a71a50ad60b0611b81059a&quot;,\n",
       "                {\n",
       "                    center: [30.0, 0.0],\n",
       "                    crs: L.CRS.EPSG3857,\n",
       "                    zoom: 3,\n",
       "                    zoomControl: true,\n",
       "                    preferCanvas: false,\n",
       "                }\n",
       "            );\n",
       "\n",
       "            \n",
       "\n",
       "        \n",
       "    \n",
       "            var tile_layer_313c632fb8e7abb676b3870d19acde97 = L.tileLayer(\n",
       "                &quot;https://tile.openstreetmap.org/{z}/{x}/{y}.png&quot;,\n",
       "                {&quot;attribution&quot;: &quot;\\u0026copy; \\u003ca href=\\&quot;https://www.openstreetmap.org/copyright\\&quot;\\u003eOpenStreetMap\\u003c/a\\u003e contributors&quot;, &quot;detectRetina&quot;: false, &quot;maxNativeZoom&quot;: 19, &quot;maxZoom&quot;: 19, &quot;minZoom&quot;: 0, &quot;noWrap&quot;: false, &quot;opacity&quot;: 1, &quot;subdomains&quot;: &quot;abc&quot;, &quot;tms&quot;: false}\n",
       "            );\n",
       "        \n",
       "    \n",
       "            tile_layer_313c632fb8e7abb676b3870d19acde97.addTo(map_c2b3b66e00a71a50ad60b0611b81059a);\n",
       "        \n",
       "    \n",
       "            var boat_marker_64ae46619a4ba3748382c1f0290f435e = L.boatMarker(\n",
       "                [34.0, -43.0],\n",
       "                {&quot;color&quot;: &quot;#8f8&quot;}\n",
       "            ).addTo(map_c2b3b66e00a71a50ad60b0611b81059a);\n",
       "            boat_marker_64ae46619a4ba3748382c1f0290f435e.setHeadingWind(\n",
       "                45,\n",
       "                45,\n",
       "                150\n",
       "            );\n",
       "            \n",
       "    \n",
       "            var boat_marker_1da185b70aa363d5bbd28721c775cca1 = L.boatMarker(\n",
       "                [46.0, -30.0],\n",
       "                {&quot;color&quot;: &quot;#88f&quot;}\n",
       "            ).addTo(map_c2b3b66e00a71a50ad60b0611b81059a);\n",
       "            boat_marker_1da185b70aa363d5bbd28721c775cca1.setHeadingWind(\n",
       "                -20,\n",
       "                25,\n",
       "                46\n",
       "            );\n",
       "            \n",
       "&lt;/script&gt;\n",
       "&lt;/html&gt;\" style=\"position:absolute;width:100%;height:100%;left:0;top:0;border:none !important;\" allowfullscreen webkitallowfullscreen mozallowfullscreen></iframe></div></div>"
      ],
      "text/plain": [
       "<folium.folium.Map at 0x7f8dec817ec0>"
      ]
     },
     "execution_count": 2,
     "metadata": {},
     "output_type": "execute_result"
    }
   ],
   "source": [
    "m = folium.Map([30, 0], zoom_start=3)\n",
    "\n",
    "folium.plugins.BoatMarker(\n",
    "    location=(34, -43), heading=45, wind_heading=150, wind_speed=45, color=\"#8f8\"\n",
    ").add_to(m)\n",
    "\n",
    "folium.plugins.BoatMarker(\n",
    "    location=(46, -30), heading=-20, wind_heading=46, wind_speed=25, color=\"#88f\"\n",
    ").add_to(m)\n",
    "\n",
    "m"
   ]
  }
 ],
 "metadata": {
  "jupytext": {
   "text_representation": {
    "extension": ".mystnb",
    "format_name": "myst"
   }
  },
  "language_info": {
   "codemirror_mode": {
    "name": "ipython",
    "version": 3
   },
   "file_extension": ".py",
   "mimetype": "text/x-python",
   "name": "python",
   "nbconvert_exporter": "python",
   "pygments_lexer": "ipython3",
   "version": "3.12.2"
  }
 },
 "nbformat": 4,
 "nbformat_minor": 5
}
