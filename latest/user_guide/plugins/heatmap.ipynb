{
 "cells": [
  {
   "cell_type": "markdown",
   "id": "a67dba34",
   "metadata": {},
   "source": [
    "## Heatmap"
   ]
  },
  {
   "cell_type": "code",
   "execution_count": 1,
   "id": "7459e1c3",
   "metadata": {
    "execution": {
     "iopub.execute_input": "2024-02-29T05:02:20.276509Z",
     "iopub.status.busy": "2024-02-29T05:02:20.276331Z",
     "iopub.status.idle": "2024-02-29T05:02:20.337855Z",
     "shell.execute_reply": "2024-02-29T05:02:20.337399Z"
    }
   },
   "outputs": [],
   "source": [
    "import numpy as np\n",
    "\n",
    "data = (\n",
    "    np.random.normal(size=(100, 3)) * np.array([[1, 1, 1]]) + np.array([[48, 5, 1]])\n",
    ").tolist()"
   ]
  },
  {
   "cell_type": "code",
   "execution_count": 2,
   "id": "3bc4f0cb",
   "metadata": {
    "execution": {
     "iopub.execute_input": "2024-02-29T05:02:20.341350Z",
     "iopub.status.busy": "2024-02-29T05:02:20.340454Z",
     "iopub.status.idle": "2024-02-29T05:02:20.752969Z",
     "shell.execute_reply": "2024-02-29T05:02:20.752501Z"
    }
   },
   "outputs": [
    {
     "data": {
      "text/html": [
       "<div style=\"width:100%;\"><div style=\"position:relative;width:100%;height:0;padding-bottom:60%;\"><span style=\"color:#565656\">Make this Notebook Trusted to load map: File -> Trust Notebook</span><iframe srcdoc=\"&lt;!DOCTYPE html&gt;\n",
       "&lt;html&gt;\n",
       "&lt;head&gt;\n",
       "    \n",
       "    &lt;meta http-equiv=&quot;content-type&quot; content=&quot;text/html; charset=UTF-8&quot; /&gt;\n",
       "    \n",
       "        &lt;script&gt;\n",
       "            L_NO_TOUCH = false;\n",
       "            L_DISABLE_3D = false;\n",
       "        &lt;/script&gt;\n",
       "    \n",
       "    &lt;style&gt;html, body {width: 100%;height: 100%;margin: 0;padding: 0;}&lt;/style&gt;\n",
       "    &lt;style&gt;#map {position:absolute;top:0;bottom:0;right:0;left:0;}&lt;/style&gt;\n",
       "    &lt;script src=&quot;https://cdn.jsdelivr.net/npm/leaflet@1.9.3/dist/leaflet.js&quot;&gt;&lt;/script&gt;\n",
       "    &lt;script src=&quot;https://code.jquery.com/jquery-3.7.1.min.js&quot;&gt;&lt;/script&gt;\n",
       "    &lt;script src=&quot;https://cdn.jsdelivr.net/npm/bootstrap@5.2.2/dist/js/bootstrap.bundle.min.js&quot;&gt;&lt;/script&gt;\n",
       "    &lt;script src=&quot;https://cdnjs.cloudflare.com/ajax/libs/Leaflet.awesome-markers/2.0.2/leaflet.awesome-markers.js&quot;&gt;&lt;/script&gt;\n",
       "    &lt;link rel=&quot;stylesheet&quot; href=&quot;https://cdn.jsdelivr.net/npm/leaflet@1.9.3/dist/leaflet.css&quot;/&gt;\n",
       "    &lt;link rel=&quot;stylesheet&quot; href=&quot;https://cdn.jsdelivr.net/npm/bootstrap@5.2.2/dist/css/bootstrap.min.css&quot;/&gt;\n",
       "    &lt;link rel=&quot;stylesheet&quot; href=&quot;https://netdna.bootstrapcdn.com/bootstrap/3.0.0/css/bootstrap.min.css&quot;/&gt;\n",
       "    &lt;link rel=&quot;stylesheet&quot; href=&quot;https://cdn.jsdelivr.net/npm/@fortawesome/fontawesome-free@6.2.0/css/all.min.css&quot;/&gt;\n",
       "    &lt;link rel=&quot;stylesheet&quot; href=&quot;https://cdnjs.cloudflare.com/ajax/libs/Leaflet.awesome-markers/2.0.2/leaflet.awesome-markers.css&quot;/&gt;\n",
       "    &lt;link rel=&quot;stylesheet&quot; href=&quot;https://cdn.jsdelivr.net/gh/python-visualization/folium/folium/templates/leaflet.awesome.rotate.min.css&quot;/&gt;\n",
       "    \n",
       "            &lt;meta name=&quot;viewport&quot; content=&quot;width=device-width,\n",
       "                initial-scale=1.0, maximum-scale=1.0, user-scalable=no&quot; /&gt;\n",
       "            &lt;style&gt;\n",
       "                #map_f3acd26adc3f0ba2d9ff97e3ab93a35d {\n",
       "                    position: relative;\n",
       "                    width: 100.0%;\n",
       "                    height: 100.0%;\n",
       "                    left: 0.0%;\n",
       "                    top: 0.0%;\n",
       "                }\n",
       "                .leaflet-container { font-size: 1rem; }\n",
       "            &lt;/style&gt;\n",
       "        \n",
       "    &lt;script src=&quot;https://cdn.jsdelivr.net/gh/python-visualization/folium@main/folium/templates/leaflet_heat.min.js&quot;&gt;&lt;/script&gt;\n",
       "&lt;/head&gt;\n",
       "&lt;body&gt;\n",
       "    \n",
       "    \n",
       "            &lt;div class=&quot;folium-map&quot; id=&quot;map_f3acd26adc3f0ba2d9ff97e3ab93a35d&quot; &gt;&lt;/div&gt;\n",
       "        \n",
       "&lt;/body&gt;\n",
       "&lt;script&gt;\n",
       "    \n",
       "    \n",
       "            var map_f3acd26adc3f0ba2d9ff97e3ab93a35d = L.map(\n",
       "                &quot;map_f3acd26adc3f0ba2d9ff97e3ab93a35d&quot;,\n",
       "                {\n",
       "                    center: [48.0, 5.0],\n",
       "                    crs: L.CRS.EPSG3857,\n",
       "                    zoom: 6,\n",
       "                    zoomControl: true,\n",
       "                    preferCanvas: false,\n",
       "                }\n",
       "            );\n",
       "\n",
       "            \n",
       "\n",
       "        \n",
       "    \n",
       "            var tile_layer_d54840364be244fbe2b568547a35ac88 = L.tileLayer(\n",
       "                &quot;https://tile.openstreetmap.org/{z}/{x}/{y}.png&quot;,\n",
       "                {&quot;attribution&quot;: &quot;\\u0026copy; \\u003ca href=\\&quot;https://www.openstreetmap.org/copyright\\&quot;\\u003eOpenStreetMap\\u003c/a\\u003e contributors&quot;, &quot;detectRetina&quot;: false, &quot;maxNativeZoom&quot;: 19, &quot;maxZoom&quot;: 19, &quot;minZoom&quot;: 0, &quot;noWrap&quot;: false, &quot;opacity&quot;: 1, &quot;subdomains&quot;: &quot;abc&quot;, &quot;tms&quot;: false}\n",
       "            );\n",
       "        \n",
       "    \n",
       "            tile_layer_d54840364be244fbe2b568547a35ac88.addTo(map_f3acd26adc3f0ba2d9ff97e3ab93a35d);\n",
       "        \n",
       "    \n",
       "            var heat_map_273cc87372f9ae19334498c883c318ef = L.heatLayer(\n",
       "                [[50.155280643979594, 3.684598253054128, 0.2593512989459039], [47.02407592007277, 5.805391915372372, 1.7132739053241863], [45.958255945421016, 2.8014310211175886, 3.760206881035721], [47.2916835966445, 4.36913413302317, 1.3463944979691433], [48.555263388363706, 6.97898358255478, 2.1188875542026695], [47.59287157263235, 4.343328520301213, 1.58525151587618], [46.87950539100904, 3.7249157287327543, 0.4867906988925298], [50.09666702730317, 4.036354088784757, 1.763443186199361], [47.901603105813415, 4.734846786839404, 0.349721950587229], [47.555481561804136, 4.913246667503298, 3.16609475931928], [48.16162978109529, 6.671658756620847, 1.1450787776117644], [47.93812754160123, 4.737147640863659, 2.1490729092344028], [48.46551152048213, 5.561968656913155, 0.8873315338262796], [46.36815404037841, 6.398650606939363, 1.6109973681921876], [47.61412979904988, 4.310254826256398, 0.781266704275465], [47.53450308273997, 4.566126446228515, 0.3642143970899444], [48.56348214935133, 4.564772827056373, 1.3803773121844454], [48.20306846677257, 4.665990544822146, 0.536171925207956], [47.010399467798074, 5.161534512228527, 1.0633825846250824], [50.143969446425004, 3.5291345931649385, 2.1364857459031383], [49.05266701706494, 6.349835288949034, 0.56854037088473], [47.488489893717386, 4.375581697960256, 0.41663956919809364], [47.95852847544683, 5.305571602966792, 1.4195102109572797], [49.44712419471113, 4.613664457358297, 0.6738723347505843], [48.54356365588591, 3.956996210591573, 0.9354987582292555], [47.25957231469003, 5.4545353231716955, 2.444464386536805], [47.03561230389459, 5.386550209727122, -0.05895596791313351], [46.03419580588588, 3.4898162388353207, 1.96225701990362], [48.03567029653381, 4.3176055805828515, 4.337053872640595], [47.19297965277742, 4.870991027728395, 1.6650295261221433], [47.08233911317419, 3.68502890631214, 2.552171479495575], [47.36710631752528, 5.673612095073741, -0.4970500655441574], [49.13861305777817, 2.782703947397856, 1.605390983489582], [44.99055888955246, 4.7888628065917125, 0.9138665727671008], [49.16986764958095, 4.146548734727452, 0.07421302611748115], [48.53276745926684, 4.624149543263109, -1.0656154166347522], [47.87902285598371, 4.1931462720836645, 1.2743153104592364], [46.75492320415281, 4.695357454411393, 0.2656731735176745], [49.87384628602105, 4.2953224965967705, 3.3845026478826044], [48.012913886127244, 5.402001522843486, 1.4768418353323316], [47.439114928601455, 7.254929551045082, 0.7871670847386513], [48.01810743748954, 4.2342105014341165, 1.6064477412358937], [47.12169697326585, 4.402400089029918, 1.5800407968846446], [48.69457344454418, 4.62712158793225, 0.7348542779309063], [48.2738016861589, 5.559474819458474, 0.7909336575142937], [47.17641490289875, 4.082909149665995, 0.027352863590396348], [46.99069334119757, 5.8621092749762, 1.5008117989231855], [50.44290335293005, 4.655171279788111, 1.1340552979479517], [48.41513160126645, 6.424286147976674, 1.4410057821457773], [48.806246580155516, 5.099033046062109, 2.062412538924987], [47.129321196742794, 5.2906707428321775, 2.3682006382216683], [49.24459399378957, 5.391921511943645, 0.07643250625706033], [49.50992770960194, 4.360094034939047, 1.8480231921695098], [48.002670038281, 5.178450133698997, 1.4674829372964964], [49.732298528997546, 6.536574766472283, 1.2010341537595428], [47.28643719378037, 3.3323106553627992, 0.06491304833911149], [48.02061865740069, 4.579377025593857, -0.7264721485311485], [48.22702482590933, 6.861661625491068, 0.8827833868435873], [47.71740794461525, 5.112366686119986, 1.8088455116075397], [47.51932130604372, 5.466223694306516, 2.2211963462927917], [47.90878974932615, 5.444312877748485, 0.7266924821078123], [47.32026922452356, 6.829773451537576, 2.2536727077708623], [48.268140897756254, 4.3598539200454764, 1.0282621977529751], [46.81362412838891, 4.431242546451073, 1.6433157740037818], [49.66412407201455, 5.305635887170723, 1.213311353367262], [47.78377715532893, 5.389130595330612, 0.12444281505507981], [48.92467273475631, 6.233471158108593, 1.138794150326183], [46.83950773629722, 5.148697102795742, 1.2616084894174748], [49.160544258588885, 7.201812309437743, 2.5443101768271723], [48.32383293113943, 4.8890371066836185, 1.56120806634598], [48.54577003295137, 5.559089230075975, 2.0265282300016443], [48.15874235746937, 6.284667468682345, -0.29712291889115017], [48.094070272333354, 4.266276432248278, 0.561941209307135], [48.535666990340225, 4.392563741836864, 2.0122600691528874], [47.87854687606525, 5.287993657496093, 2.929573163807577], [48.23982790522926, 5.113434312064189, 1.2945976342331174], [45.984871085375744, 3.5033701462594653, 2.725147514621339], [47.562081006373354, 4.3683118174394, 1.9441022835703836], [46.68003647144193, 4.7287146893942005, 2.095263737573612], [49.771725257738275, 6.076591018377604, 2.14331587066903], [46.52298485201491, 5.181438620838951, 2.0053374091874447], [46.08224659305976, 4.552719506544101, 0.7583154793130888], [46.78118975455787, 6.579138608526086, 2.3437334753816264], [46.72774811801484, 4.706972523364904, 0.2945033676716662], [48.06832726656565, 5.013972008346833, 0.3202523718833764], [47.12872901203047, 6.5033517153870815, 2.7724104061931807], [48.47859529936656, 6.389676047350885, -0.24546825264765482], [47.21281647447754, 4.019094846678037, 1.246686198589925], [46.986215716615405, 3.2584344727446313, 2.45600038201314], [47.982315765277036, 4.117404342968292, 1.0168447900814488], [47.32044520435959, 3.884097555098637, 0.8540788174067222], [48.2511022164253, 4.4365427188956765, -0.1791061270963341], [47.08542448591655, 4.147665573779457, 1.711649773163451], [47.04504071666912, 5.357454944003167, 1.4874755854439234], [48.44349610004878, 6.343484001422324, 1.790068348566513], [48.860417449571685, 4.947776052615982, 0.2865796061733783], [48.198382977106974, 5.161016292676562, 3.413812831550331], [47.973711243540805, 6.177432565875517, 1.146034646028341], [48.658211473207544, 5.133877471839671, 0.7621492062255434], [45.759129434550275, 4.533892958675034, 1.0183914489055408]],\n",
       "                {&quot;blur&quot;: 15, &quot;maxZoom&quot;: 18, &quot;minOpacity&quot;: 0.5, &quot;radius&quot;: 25}\n",
       "            );\n",
       "        \n",
       "    \n",
       "            heat_map_273cc87372f9ae19334498c883c318ef.addTo(map_f3acd26adc3f0ba2d9ff97e3ab93a35d);\n",
       "        \n",
       "&lt;/script&gt;\n",
       "&lt;/html&gt;\" style=\"position:absolute;width:100%;height:100%;left:0;top:0;border:none !important;\" allowfullscreen webkitallowfullscreen mozallowfullscreen></iframe></div></div>"
      ],
      "text/plain": [
       "<folium.folium.Map at 0x7fdf63cb5ca0>"
      ]
     },
     "execution_count": 2,
     "metadata": {},
     "output_type": "execute_result"
    }
   ],
   "source": [
    "import folium\n",
    "from folium.plugins import HeatMap\n",
    "\n",
    "m = folium.Map([48.0, 5.0], zoom_start=6)\n",
    "\n",
    "HeatMap(data).add_to(m)\n",
    "\n",
    "m"
   ]
  }
 ],
 "metadata": {
  "jupytext": {
   "text_representation": {
    "extension": ".mystnb",
    "format_name": "myst"
   }
  },
  "language_info": {
   "codemirror_mode": {
    "name": "ipython",
    "version": 3
   },
   "file_extension": ".py",
   "mimetype": "text/x-python",
   "name": "python",
   "nbconvert_exporter": "python",
   "pygments_lexer": "ipython3",
   "version": "3.12.2"
  }
 },
 "nbformat": 4,
 "nbformat_minor": 5
}
