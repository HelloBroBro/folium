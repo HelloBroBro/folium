{
 "cells": [
  {
   "cell_type": "markdown",
   "id": "4421e956",
   "metadata": {},
   "source": [
    "## Heatmap"
   ]
  },
  {
   "cell_type": "code",
   "execution_count": 1,
   "id": "b80e671b",
   "metadata": {
    "execution": {
     "iopub.execute_input": "2024-06-04T05:12:45.374343Z",
     "iopub.status.busy": "2024-06-04T05:12:45.373859Z",
     "iopub.status.idle": "2024-06-04T05:12:45.432696Z",
     "shell.execute_reply": "2024-06-04T05:12:45.432236Z"
    }
   },
   "outputs": [],
   "source": [
    "import numpy as np\n",
    "\n",
    "data = (\n",
    "    np.random.normal(size=(100, 3)) * np.array([[1, 1, 1]]) + np.array([[48, 5, 1]])\n",
    ").tolist()"
   ]
  },
  {
   "cell_type": "code",
   "execution_count": 2,
   "id": "ce580047",
   "metadata": {
    "execution": {
     "iopub.execute_input": "2024-06-04T05:12:45.435989Z",
     "iopub.status.busy": "2024-06-04T05:12:45.435086Z",
     "iopub.status.idle": "2024-06-04T05:12:45.858926Z",
     "shell.execute_reply": "2024-06-04T05:12:45.858394Z"
    }
   },
   "outputs": [
    {
     "data": {
      "text/html": [
       "<div style=\"width:100%;\"><div style=\"position:relative;width:100%;height:0;padding-bottom:60%;\"><span style=\"color:#565656\">Make this Notebook Trusted to load map: File -> Trust Notebook</span><iframe srcdoc=\"&lt;!DOCTYPE html&gt;\n",
       "&lt;html&gt;\n",
       "&lt;head&gt;\n",
       "    \n",
       "    &lt;meta http-equiv=&quot;content-type&quot; content=&quot;text/html; charset=UTF-8&quot; /&gt;\n",
       "    \n",
       "        &lt;script&gt;\n",
       "            L_NO_TOUCH = false;\n",
       "            L_DISABLE_3D = false;\n",
       "        &lt;/script&gt;\n",
       "    \n",
       "    &lt;style&gt;html, body {width: 100%;height: 100%;margin: 0;padding: 0;}&lt;/style&gt;\n",
       "    &lt;style&gt;#map {position:absolute;top:0;bottom:0;right:0;left:0;}&lt;/style&gt;\n",
       "    &lt;script src=&quot;https://cdn.jsdelivr.net/npm/leaflet@1.9.3/dist/leaflet.js&quot;&gt;&lt;/script&gt;\n",
       "    &lt;script src=&quot;https://code.jquery.com/jquery-3.7.1.min.js&quot;&gt;&lt;/script&gt;\n",
       "    &lt;script src=&quot;https://cdn.jsdelivr.net/npm/bootstrap@5.2.2/dist/js/bootstrap.bundle.min.js&quot;&gt;&lt;/script&gt;\n",
       "    &lt;script src=&quot;https://cdnjs.cloudflare.com/ajax/libs/Leaflet.awesome-markers/2.0.2/leaflet.awesome-markers.js&quot;&gt;&lt;/script&gt;\n",
       "    &lt;link rel=&quot;stylesheet&quot; href=&quot;https://cdn.jsdelivr.net/npm/leaflet@1.9.3/dist/leaflet.css&quot;/&gt;\n",
       "    &lt;link rel=&quot;stylesheet&quot; href=&quot;https://cdn.jsdelivr.net/npm/bootstrap@5.2.2/dist/css/bootstrap.min.css&quot;/&gt;\n",
       "    &lt;link rel=&quot;stylesheet&quot; href=&quot;https://netdna.bootstrapcdn.com/bootstrap/3.0.0/css/bootstrap-glyphicons.css&quot;/&gt;\n",
       "    &lt;link rel=&quot;stylesheet&quot; href=&quot;https://cdn.jsdelivr.net/npm/@fortawesome/fontawesome-free@6.2.0/css/all.min.css&quot;/&gt;\n",
       "    &lt;link rel=&quot;stylesheet&quot; href=&quot;https://cdnjs.cloudflare.com/ajax/libs/Leaflet.awesome-markers/2.0.2/leaflet.awesome-markers.css&quot;/&gt;\n",
       "    &lt;link rel=&quot;stylesheet&quot; href=&quot;https://cdn.jsdelivr.net/gh/python-visualization/folium/folium/templates/leaflet.awesome.rotate.min.css&quot;/&gt;\n",
       "    \n",
       "            &lt;meta name=&quot;viewport&quot; content=&quot;width=device-width,\n",
       "                initial-scale=1.0, maximum-scale=1.0, user-scalable=no&quot; /&gt;\n",
       "            &lt;style&gt;\n",
       "                #map_bef74ac616ade49bbacb6a928488230d {\n",
       "                    position: relative;\n",
       "                    width: 100.0%;\n",
       "                    height: 100.0%;\n",
       "                    left: 0.0%;\n",
       "                    top: 0.0%;\n",
       "                }\n",
       "                .leaflet-container { font-size: 1rem; }\n",
       "            &lt;/style&gt;\n",
       "        \n",
       "    &lt;script src=&quot;https://cdn.jsdelivr.net/gh/python-visualization/folium@main/folium/templates/leaflet_heat.min.js&quot;&gt;&lt;/script&gt;\n",
       "&lt;/head&gt;\n",
       "&lt;body&gt;\n",
       "    \n",
       "    \n",
       "            &lt;div class=&quot;folium-map&quot; id=&quot;map_bef74ac616ade49bbacb6a928488230d&quot; &gt;&lt;/div&gt;\n",
       "        \n",
       "&lt;/body&gt;\n",
       "&lt;script&gt;\n",
       "    \n",
       "    \n",
       "            var map_bef74ac616ade49bbacb6a928488230d = L.map(\n",
       "                &quot;map_bef74ac616ade49bbacb6a928488230d&quot;,\n",
       "                {\n",
       "                    center: [48.0, 5.0],\n",
       "                    crs: L.CRS.EPSG3857,\n",
       "                    zoom: 6,\n",
       "                    zoomControl: true,\n",
       "                    preferCanvas: false,\n",
       "                }\n",
       "            );\n",
       "\n",
       "            \n",
       "\n",
       "        \n",
       "    \n",
       "            var tile_layer_31a12eac66d24e6024220cd53b543b14 = L.tileLayer(\n",
       "                &quot;https://tile.openstreetmap.org/{z}/{x}/{y}.png&quot;,\n",
       "                {&quot;attribution&quot;: &quot;\\u0026copy; \\u003ca href=\\&quot;https://www.openstreetmap.org/copyright\\&quot;\\u003eOpenStreetMap\\u003c/a\\u003e contributors&quot;, &quot;detectRetina&quot;: false, &quot;maxNativeZoom&quot;: 19, &quot;maxZoom&quot;: 19, &quot;minZoom&quot;: 0, &quot;noWrap&quot;: false, &quot;opacity&quot;: 1, &quot;subdomains&quot;: &quot;abc&quot;, &quot;tms&quot;: false}\n",
       "            );\n",
       "        \n",
       "    \n",
       "            tile_layer_31a12eac66d24e6024220cd53b543b14.addTo(map_bef74ac616ade49bbacb6a928488230d);\n",
       "        \n",
       "    \n",
       "            var heat_map_efbe6a1d3b20bfc332fd7f51f0fefac0 = L.heatLayer(\n",
       "                [[47.1925479935364, 4.405098030113172, 1.8745883167299358], [47.10818756304248, 4.867554172875466, 2.1811029055215547], [47.828759346622036, 4.5757526936519755, -0.5754284504400276], [49.96945192114753, 5.259722730109584, 0.7387541033901789], [49.892567982248195, 4.389675800266759, -0.14409415566874317], [47.23663710466901, 4.570331813871686, -0.26284548902446425], [47.02059122653487, 4.1743740179657625, 2.9403520992370047], [47.661033886944786, 5.4452585372044, 2.006898672904133], [48.11273605058333, 5.080367603730984, 1.626694332974882], [49.69898500927351, 5.965243760054464, 1.7214104549704823], [47.892391210387295, 4.649579419153081, 1.0240634475166042], [47.60732705033096, 6.234104823849024, 1.0912562933665786], [44.86487146094706, 5.327731338481224, 0.8425351148285558], [46.533803576097775, 5.253329998538753, 0.4133312067914029], [49.052257727222106, 4.638153563105317, 2.2281485707050113], [47.036729474910054, 5.570996588512054, 2.0024258537264474], [48.03306355747129, 4.9458778337887965, -0.29238000458799407], [48.70349026745118, 6.690236725428995, 1.0180934041998926], [49.325448533909814, 4.04306769277214, 2.1256172408950014], [47.60300182317177, 4.993174638440952, 0.6856734381484677], [48.41880345038021, 6.087852722706405, 0.806644649052296], [48.524675931367575, 5.433728610284755, 0.47521234132724277], [46.63099060674863, 6.356286059752538, 0.4413909431151888], [49.0594361156603, 4.891044239601898, 1.8791894519431578], [47.94854218083279, 5.736527309986608, 0.9983651159716925], [50.09005567975426, 5.103842953180455, 1.5926738532078812], [48.34971045855967, 5.325706161927859, 1.472638755278629], [48.98966836284481, 3.827914570365466, 0.1415076869012094], [47.36476656295657, 4.742791793564399, 1.2760416328951527], [47.85132728368835, 4.9643826473744905, 1.9846694227868], [47.33427814093643, 4.605350349491264, 1.1112333785618889], [48.547690103927025, 4.351389047189259, 0.7989971963807525], [46.8013177973123, 6.539618235556109, 0.9626016232289162], [49.1378486818649, 4.597568477114726, 1.3578539649999142], [47.821223434682345, 5.193907269242992, 0.9336157361831643], [49.225160558872574, 5.159745571619493, 2.4345162007306937], [48.719373853240725, 4.8307063635077885, 0.7307294695538444], [49.215279146870394, 4.742345977740076, 1.580622979146257], [46.400997739288314, 6.755954426158185, 1.8223313833315486], [48.095171334496726, 6.40231667425911, 1.9182265210322464], [48.20767421414865, 5.391871511931442, 0.6735679471065608], [47.636238582834885, 5.370332292918915, 0.8356581032309365], [46.87900449582702, 5.340124399368715, 1.3719551675171708], [48.425352827433684, 5.468718862007031, 1.666349692928498], [49.56438671122373, 4.205054539731787, 2.640835432282863], [48.60934155787881, 4.453590219309788, 1.3798459610361962], [48.170537638734594, 5.60616479877944, 2.211866696135155], [48.18645713113453, 5.555349875930094, 1.0747909616977507], [50.13767536848628, 5.226894428484199, 3.0104770749212895], [49.6019729088571, 4.48613610630425, 1.6887508903471646], [48.335683277602485, 4.889525597720883, 0.9833824859239457], [50.88953228856618, 6.3007436441755695, 1.0142925726422], [47.37070247932688, 7.01889834487732, 1.890473916645763], [48.49359492341507, 5.474967495034926, 2.3583651343155374], [47.89484232445164, 4.979058897377346, 1.40124717542358], [49.6704541484806, 5.3575529186772375, 0.9956963515247333], [49.3201732169212, 5.275444360024168, -0.9848494484625139], [47.47572693949405, 4.968239054992949, 1.6810803052267358], [49.03824963191747, 6.412043429828167, 0.5120022621480516], [48.734013402230644, 5.709991885541078, 1.5916972306508024], [49.952261824734116, 6.212586404185444, 1.3205199948297994], [47.58388791009091, 5.829976419769483, 0.7205571593746882], [48.371108093222745, 6.409384271359435, 1.4851059640223285], [49.55783440403987, 5.341013683221986, 1.6657453058481], [47.89682227814084, 4.837913210667762, 1.3763733144454646], [47.21888912511076, 3.676885448263869, 1.0361422186940343], [47.155510783567, 6.704746705229615, -0.21604623706041992], [46.83594290541565, 5.95155379273261, 0.5579500967782407], [48.23166395428768, 4.612649833188971, 2.222593469454892], [46.74602808045192, 5.17395340978445, 0.9889149593881135], [48.54723551705596, 6.166544213683746, 1.3455640651693077], [49.91610810982891, 3.8746117482561537, 1.746865414233926], [48.51721647256905, 4.453961939379397, 0.5453018027786514], [47.794194452723836, 4.13821731839254, -0.30019021321731487], [49.65982497329395, 4.999220091730233, 1.0019531384758662], [48.22285231002553, 4.288444077832365, 2.562037373425553], [46.59615667768366, 6.4435118171467325, 1.884040973149349], [49.664171693850676, 6.353437759339846, 1.8549279507627146], [46.53473388347381, 3.5974348089845396, 1.7679704859479748], [47.30581467904405, 3.335670740090134, 0.9983258587899917], [49.434933222652056, 4.569432053322828, -0.08392393474490456], [48.74560548170472, 5.026134547736796, 3.435590597755713], [46.892714449626794, 4.633435294291659, 0.32780359670420833], [48.11628201594407, 3.7313405169704206, 1.466321487854874], [47.77568858075369, 5.518132296180934, 0.9156793210908309], [46.83905835076132, 4.371924368350479, 2.196789391592417], [46.91020332585005, 5.966171874141045, 3.195757104368748], [46.73414384513261, 5.940627875525334, 2.0850230987508223], [48.9509364013866, 6.489073417868632, 0.9845403503970513], [48.52803440236297, 4.995591019884744, 1.4784907236770528], [49.13800074653601, 4.997587585452231, 1.1187222626884448], [50.248748383458526, 4.135746109397166, 2.214451215812424], [47.159023691159824, 4.722709473470741, 0.2200371295492356], [48.56703629070835, 5.292142133424635, 0.2757296698317814], [47.389989377803424, 6.680468498840354, 0.47702157003273904], [48.47471637045583, 4.620704761162942, 2.120272497461301], [48.45891590296297, 5.912818913643461, 4.14425480402315], [49.01100035047685, 4.723465581243985, -0.4326810215935706], [48.95967032588822, 5.2169385008917555, -1.6663819215742857], [49.95757667178604, 5.456740320242795, 0.955674854223543]],\n",
       "                {&quot;blur&quot;: 15, &quot;maxZoom&quot;: 18, &quot;minOpacity&quot;: 0.5, &quot;radius&quot;: 25}\n",
       "            );\n",
       "        \n",
       "    \n",
       "            heat_map_efbe6a1d3b20bfc332fd7f51f0fefac0.addTo(map_bef74ac616ade49bbacb6a928488230d);\n",
       "        \n",
       "&lt;/script&gt;\n",
       "&lt;/html&gt;\" style=\"position:absolute;width:100%;height:100%;left:0;top:0;border:none !important;\" allowfullscreen webkitallowfullscreen mozallowfullscreen></iframe></div></div>"
      ],
      "text/plain": [
       "<folium.folium.Map at 0x7f2f1a8c1c70>"
      ]
     },
     "execution_count": 2,
     "metadata": {},
     "output_type": "execute_result"
    }
   ],
   "source": [
    "import folium\n",
    "from folium.plugins import HeatMap\n",
    "\n",
    "m = folium.Map([48.0, 5.0], zoom_start=6)\n",
    "\n",
    "HeatMap(data).add_to(m)\n",
    "\n",
    "m"
   ]
  }
 ],
 "metadata": {
  "jupytext": {
   "text_representation": {
    "extension": ".mystnb",
    "format_name": "myst"
   }
  },
  "language_info": {
   "codemirror_mode": {
    "name": "ipython",
    "version": 3
   },
   "file_extension": ".py",
   "mimetype": "text/x-python",
   "name": "python",
   "nbconvert_exporter": "python",
   "pygments_lexer": "ipython3",
   "version": "3.12.3"
  }
 },
 "nbformat": 4,
 "nbformat_minor": 5
}
