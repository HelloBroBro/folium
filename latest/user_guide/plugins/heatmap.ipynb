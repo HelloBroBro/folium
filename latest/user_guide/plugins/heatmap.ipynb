{
 "cells": [
  {
   "cell_type": "markdown",
   "id": "bcd18690",
   "metadata": {},
   "source": [
    "## Heatmap"
   ]
  },
  {
   "cell_type": "code",
   "execution_count": 1,
   "id": "8bcacc5e",
   "metadata": {
    "execution": {
     "iopub.execute_input": "2024-04-18T11:23:37.912276Z",
     "iopub.status.busy": "2024-04-18T11:23:37.912108Z",
     "iopub.status.idle": "2024-04-18T11:23:37.971223Z",
     "shell.execute_reply": "2024-04-18T11:23:37.970754Z"
    }
   },
   "outputs": [],
   "source": [
    "import numpy as np\n",
    "\n",
    "data = (\n",
    "    np.random.normal(size=(100, 3)) * np.array([[1, 1, 1]]) + np.array([[48, 5, 1]])\n",
    ").tolist()"
   ]
  },
  {
   "cell_type": "code",
   "execution_count": 2,
   "id": "59fe75e7",
   "metadata": {
    "execution": {
     "iopub.execute_input": "2024-04-18T11:23:37.974727Z",
     "iopub.status.busy": "2024-04-18T11:23:37.973866Z",
     "iopub.status.idle": "2024-04-18T11:23:38.399832Z",
     "shell.execute_reply": "2024-04-18T11:23:38.399307Z"
    }
   },
   "outputs": [
    {
     "data": {
      "text/html": [
       "<div style=\"width:100%;\"><div style=\"position:relative;width:100%;height:0;padding-bottom:60%;\"><span style=\"color:#565656\">Make this Notebook Trusted to load map: File -> Trust Notebook</span><iframe srcdoc=\"&lt;!DOCTYPE html&gt;\n",
       "&lt;html&gt;\n",
       "&lt;head&gt;\n",
       "    \n",
       "    &lt;meta http-equiv=&quot;content-type&quot; content=&quot;text/html; charset=UTF-8&quot; /&gt;\n",
       "    \n",
       "        &lt;script&gt;\n",
       "            L_NO_TOUCH = false;\n",
       "            L_DISABLE_3D = false;\n",
       "        &lt;/script&gt;\n",
       "    \n",
       "    &lt;style&gt;html, body {width: 100%;height: 100%;margin: 0;padding: 0;}&lt;/style&gt;\n",
       "    &lt;style&gt;#map {position:absolute;top:0;bottom:0;right:0;left:0;}&lt;/style&gt;\n",
       "    &lt;script src=&quot;https://cdn.jsdelivr.net/npm/leaflet@1.9.3/dist/leaflet.js&quot;&gt;&lt;/script&gt;\n",
       "    &lt;script src=&quot;https://code.jquery.com/jquery-3.7.1.min.js&quot;&gt;&lt;/script&gt;\n",
       "    &lt;script src=&quot;https://cdn.jsdelivr.net/npm/bootstrap@5.2.2/dist/js/bootstrap.bundle.min.js&quot;&gt;&lt;/script&gt;\n",
       "    &lt;script src=&quot;https://cdnjs.cloudflare.com/ajax/libs/Leaflet.awesome-markers/2.0.2/leaflet.awesome-markers.js&quot;&gt;&lt;/script&gt;\n",
       "    &lt;link rel=&quot;stylesheet&quot; href=&quot;https://cdn.jsdelivr.net/npm/leaflet@1.9.3/dist/leaflet.css&quot;/&gt;\n",
       "    &lt;link rel=&quot;stylesheet&quot; href=&quot;https://cdn.jsdelivr.net/npm/bootstrap@5.2.2/dist/css/bootstrap.min.css&quot;/&gt;\n",
       "    &lt;link rel=&quot;stylesheet&quot; href=&quot;https://netdna.bootstrapcdn.com/bootstrap/3.0.0/css/bootstrap-glyphicons.css&quot;/&gt;\n",
       "    &lt;link rel=&quot;stylesheet&quot; href=&quot;https://cdn.jsdelivr.net/npm/@fortawesome/fontawesome-free@6.2.0/css/all.min.css&quot;/&gt;\n",
       "    &lt;link rel=&quot;stylesheet&quot; href=&quot;https://cdnjs.cloudflare.com/ajax/libs/Leaflet.awesome-markers/2.0.2/leaflet.awesome-markers.css&quot;/&gt;\n",
       "    &lt;link rel=&quot;stylesheet&quot; href=&quot;https://cdn.jsdelivr.net/gh/python-visualization/folium/folium/templates/leaflet.awesome.rotate.min.css&quot;/&gt;\n",
       "    \n",
       "            &lt;meta name=&quot;viewport&quot; content=&quot;width=device-width,\n",
       "                initial-scale=1.0, maximum-scale=1.0, user-scalable=no&quot; /&gt;\n",
       "            &lt;style&gt;\n",
       "                #map_1c68128ebcf6c97bfaea4d9bf9213ffb {\n",
       "                    position: relative;\n",
       "                    width: 100.0%;\n",
       "                    height: 100.0%;\n",
       "                    left: 0.0%;\n",
       "                    top: 0.0%;\n",
       "                }\n",
       "                .leaflet-container { font-size: 1rem; }\n",
       "            &lt;/style&gt;\n",
       "        \n",
       "    &lt;script src=&quot;https://cdn.jsdelivr.net/gh/python-visualization/folium@main/folium/templates/leaflet_heat.min.js&quot;&gt;&lt;/script&gt;\n",
       "&lt;/head&gt;\n",
       "&lt;body&gt;\n",
       "    \n",
       "    \n",
       "            &lt;div class=&quot;folium-map&quot; id=&quot;map_1c68128ebcf6c97bfaea4d9bf9213ffb&quot; &gt;&lt;/div&gt;\n",
       "        \n",
       "&lt;/body&gt;\n",
       "&lt;script&gt;\n",
       "    \n",
       "    \n",
       "            var map_1c68128ebcf6c97bfaea4d9bf9213ffb = L.map(\n",
       "                &quot;map_1c68128ebcf6c97bfaea4d9bf9213ffb&quot;,\n",
       "                {\n",
       "                    center: [48.0, 5.0],\n",
       "                    crs: L.CRS.EPSG3857,\n",
       "                    zoom: 6,\n",
       "                    zoomControl: true,\n",
       "                    preferCanvas: false,\n",
       "                }\n",
       "            );\n",
       "\n",
       "            \n",
       "\n",
       "        \n",
       "    \n",
       "            var tile_layer_730058ebb3e85c2d850f5a186501b5cf = L.tileLayer(\n",
       "                &quot;https://tile.openstreetmap.org/{z}/{x}/{y}.png&quot;,\n",
       "                {&quot;attribution&quot;: &quot;\\u0026copy; \\u003ca href=\\&quot;https://www.openstreetmap.org/copyright\\&quot;\\u003eOpenStreetMap\\u003c/a\\u003e contributors&quot;, &quot;detectRetina&quot;: false, &quot;maxNativeZoom&quot;: 19, &quot;maxZoom&quot;: 19, &quot;minZoom&quot;: 0, &quot;noWrap&quot;: false, &quot;opacity&quot;: 1, &quot;subdomains&quot;: &quot;abc&quot;, &quot;tms&quot;: false}\n",
       "            );\n",
       "        \n",
       "    \n",
       "            tile_layer_730058ebb3e85c2d850f5a186501b5cf.addTo(map_1c68128ebcf6c97bfaea4d9bf9213ffb);\n",
       "        \n",
       "    \n",
       "            var heat_map_51267e89314daf6fe74527c611af9f17 = L.heatLayer(\n",
       "                [[47.70287536055023, 5.461143359148132, 1.396873219362132], [47.378004585419234, 5.501398724561702, 0.17505873975601927], [47.481743834252136, 4.8411978984575, 0.9614722217420305], [48.030704462440085, 5.275711090994686, 0.7101411431704072], [45.84976376810285, 5.275627413466327, 1.718100947601707], [46.35523986496486, 4.951473948761038, 1.8958503880158664], [48.05715299912585, 4.503897867388871, 2.510191074182732], [45.85572843336598, 4.967016727818004, 1.7882868741635445], [48.617321058379595, 6.545425106129861, 1.913572844577255], [49.594027608940685, 7.122826063228118, 3.055259104704361], [48.259594760709824, 4.768982510806186, 2.602812388234414], [48.870623239085646, 5.164890361426729, 0.7504539216606942], [48.776852391965576, 6.15926190337952, 0.3626511366733258], [46.71266174603629, 6.278529292650047, 0.6097952911649245], [47.86424029935071, 4.285201983991942, 1.7632325716888066], [47.14819605659932, 5.200326251215488, 1.6762666970322702], [48.416508207275314, 1.8212913189801623, -1.2971345278048698], [47.71434720955192, 5.065311693361969, 0.7142855421539946], [47.06025310811693, 5.94127361451698, 1.3925409013078864], [47.06830144684444, 4.819213383639687, 3.1810331669256295], [48.83550864200968, 3.8773528826348, 0.3465981596756438], [47.80416366069465, 3.8018144235230564, 1.5650654040473384], [48.730581150888554, 4.703081506943668, 2.622930337840625], [47.13422331941591, 6.505325388797006, 1.1495165638166336], [45.98319685278077, 5.535265804239909, 1.5116854696909718], [47.864215082967256, 5.478209747470042, 0.3846465173013056], [50.01911196390417, 4.265668866692172, 0.8297236262549496], [47.32646831627527, 3.25107772532657, -0.13057027560587375], [48.54619880900671, 3.4471987220088947, 1.2450663655872471], [49.006832025390814, 4.496102657463696, 1.4412598626929047], [47.792520885893715, 6.021016373367369, 2.04600081373534], [47.90165782862225, 5.2669541227393255, 1.587215495743341], [47.880003262170575, 7.0064920455563575, 1.5552357629798763], [46.174328059520406, 4.205552362450682, 0.27290825298695043], [49.66486527321267, 3.8954594121778157, 0.5206602430761111], [48.44020334044493, 7.727623293404636, 0.9485430276128497], [47.97390071399289, 3.2137412777444485, 0.9379186831176156], [47.09325641630179, 3.8227016296318035, 1.305031626857049], [48.47906500692207, 3.838578386392544, 0.40468737856618775], [48.72175495559543, 5.091380943633189, 2.027153113920746], [47.12748141563832, 2.854359041106785, 1.6713290678646517], [46.81718089996707, 5.689770319439724, 0.1020817984851643], [49.5832713512719, 4.245710282941765, 1.4819531187516783], [49.64666158278246, 4.305187947684713, 1.0529327916164106], [48.33750815777707, 4.3915838961062805, -0.8962177677675169], [47.88732471358311, 4.662882401174361, 1.3496177097938364], [46.62567100178854, 4.660885607636142, 0.23037183495821556], [45.081566981381016, 4.718793822230911, 2.506547253373613], [48.721664892116934, 4.811326916195577, 1.1054323784754287], [47.8967484569522, 6.328936420917489, 2.0289491069113836], [48.06283973575068, 5.597096846226291, 0.4283206840035839], [48.73881668587031, 4.591145289773593, 0.8861401404894877], [46.66687203756775, 4.034256377584107, 0.6386133510982219], [46.76663585061199, 6.21400338788492, 1.1553544601601187], [48.52428185578674, 4.883196274826161, -2.0947520886954267], [47.82014465405416, 6.337650058497918, 1.0588554125665617], [50.02955532272966, 6.229092548860774, 1.017759459821666], [46.541483062779605, 4.28904444502532, 1.831729050215083], [48.18050758955625, 5.428536490304296, 0.15613454819569617], [48.06934745129078, 6.142397326492949, 1.2580075137610294], [47.81034387554038, 4.1656518128280995, 1.4761582127758368], [48.41443992352404, 4.275784972697041, 0.6857413764815643], [48.986958612200326, 3.892465625999675, 1.8658913645769906], [48.789309534480964, 6.2085605717199766, 1.3605718929316422], [47.64576080342298, 7.197580863567078, -0.5129369174134821], [46.799436638025966, 3.6640267822321944, -0.6605834553682022], [47.25387196049529, 4.579207394286862, 3.0290110244082173], [48.07020439023622, 5.896937306832742, 1.5264247441573753], [48.67168202663007, 3.923032172330519, -1.1484529370925256], [48.566468821900315, 5.6056598756429326, 2.0404415243348697], [47.34090493433875, 6.068723965040432, 0.5683021232266097], [47.674830140300614, 4.126894023331001, 1.0633403363416254], [48.66778292964813, 7.01078005201405, -1.006143717637468], [46.7359478349651, 4.360967320329722, 2.646596976482111], [48.41417254636815, 4.836909300171296, 1.019808135050865], [48.414833290505925, 3.74969712596563, 1.1027947023132845], [48.138913739960024, 5.12611919868093, -0.22438966644741432], [47.05951159439521, 5.184850053909782, 2.257282812926421], [49.929273126476524, 5.726775967606174, -0.07087385470986618], [49.30751108930353, 3.8002112848899534, 0.7237969854782372], [46.79567564692664, 6.821808981504867, 0.5587952309622715], [48.649233643728195, 4.9587681027881905, 1.5036834015753802], [49.09495639157425, 5.547559633958567, 1.1587715141757962], [47.85139477995053, 6.390066065151945, 2.0403149488187573], [48.3215044037233, 5.761416558424355, 1.4667162381182466], [49.48406238331982, 5.467552955459336, 1.5718725830856661], [47.222003907556605, 6.841688295024108, 1.220162112848051], [48.22406556019349, 5.154783506993696, 1.3947535360579015], [48.652283254993016, 5.441560044029441, 3.823752917472086], [47.05462327932187, 6.778195835126558, 2.4528216123099833], [47.59599515044112, 5.009266216538386, 0.33660029816190995], [47.762843042557996, 3.175035766497133, -0.3791186401720925], [46.6308135353441, 4.7699984445193175, 0.5125864660171358], [48.47104077356404, 4.901131236582168, 0.5294969248042494], [48.77599525871205, 6.159071555414642, 0.6690482407653033], [48.03716898341813, 4.284243596634878, 0.31261675441858106], [48.54480317633608, 5.281751593742079, -0.09226091992165819], [45.81363238941583, 5.46195140226858, 1.2505891062106693], [47.18296637935748, 2.641777325748221, -0.7945625384515693], [46.966268213959374, 4.995209013001506, 2.0290081855806195]],\n",
       "                {&quot;blur&quot;: 15, &quot;maxZoom&quot;: 18, &quot;minOpacity&quot;: 0.5, &quot;radius&quot;: 25}\n",
       "            );\n",
       "        \n",
       "    \n",
       "            heat_map_51267e89314daf6fe74527c611af9f17.addTo(map_1c68128ebcf6c97bfaea4d9bf9213ffb);\n",
       "        \n",
       "&lt;/script&gt;\n",
       "&lt;/html&gt;\" style=\"position:absolute;width:100%;height:100%;left:0;top:0;border:none !important;\" allowfullscreen webkitallowfullscreen mozallowfullscreen></iframe></div></div>"
      ],
      "text/plain": [
       "<folium.folium.Map at 0x7fde048bf2f0>"
      ]
     },
     "execution_count": 2,
     "metadata": {},
     "output_type": "execute_result"
    }
   ],
   "source": [
    "import folium\n",
    "from folium.plugins import HeatMap\n",
    "\n",
    "m = folium.Map([48.0, 5.0], zoom_start=6)\n",
    "\n",
    "HeatMap(data).add_to(m)\n",
    "\n",
    "m"
   ]
  }
 ],
 "metadata": {
  "jupytext": {
   "text_representation": {
    "extension": ".mystnb",
    "format_name": "myst"
   }
  },
  "language_info": {
   "codemirror_mode": {
    "name": "ipython",
    "version": 3
   },
   "file_extension": ".py",
   "mimetype": "text/x-python",
   "name": "python",
   "nbconvert_exporter": "python",
   "pygments_lexer": "ipython3",
   "version": "3.12.3"
  }
 },
 "nbformat": 4,
 "nbformat_minor": 5
}
